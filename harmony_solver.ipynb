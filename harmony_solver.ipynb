{
  "cells": [
    {
      "cell_type": "markdown",
      "metadata": {
        "id": "view-in-github",
        "colab_type": "text"
      },
      "source": [
        "<a href=\"https://colab.research.google.com/github/kai-franz/harmony-solver/blob/main/harmony_solver.ipynb\" target=\"_parent\"><img src=\"https://colab.research.google.com/assets/colab-badge.svg\" alt=\"Open In Colab\"/></a>"
      ]
    },
    {
      "cell_type": "markdown",
      "source": [
        "# Setup"
      ],
      "metadata": {
        "id": "RkJK59iwp96q"
      }
    },
    {
      "cell_type": "markdown",
      "metadata": {
        "id": "7ayYu78SYWs7"
      },
      "source": [
        "## Set up music21 for Colab\n",
        "\n",
        "Click the play button below to upgrade music21 and install MuseScore to use in Google Colab"
      ]
    },
    {
      "cell_type": "code",
      "execution_count": 7,
      "metadata": {
        "colab": {
          "base_uri": "https://localhost:8080/"
        },
        "id": "0bh1YgqP56Gq",
        "outputId": "122999c0-a9ac-44d5-a095-d7030ef81c3b"
      },
      "outputs": [
        {
          "output_type": "stream",
          "name": "stdout",
          "text": [
            "Looking in indexes: https://pypi.org/simple, https://us-python.pkg.dev/colab-wheels/public/simple/\n",
            "Requirement already satisfied: music21 in /usr/local/lib/python3.9/dist-packages (8.1.0)\n",
            "Requirement already satisfied: more-itertools in /usr/local/lib/python3.9/dist-packages (from music21) (9.1.0)\n",
            "Requirement already satisfied: matplotlib in /usr/local/lib/python3.9/dist-packages (from music21) (3.7.1)\n",
            "Requirement already satisfied: chardet in /usr/local/lib/python3.9/dist-packages (from music21) (4.0.0)\n",
            "Requirement already satisfied: webcolors>=1.5 in /usr/local/lib/python3.9/dist-packages (from music21) (1.13)\n",
            "Requirement already satisfied: jsonpickle in /usr/local/lib/python3.9/dist-packages (from music21) (3.0.1)\n",
            "Requirement already satisfied: joblib in /usr/local/lib/python3.9/dist-packages (from music21) (1.2.0)\n",
            "Requirement already satisfied: numpy in /usr/local/lib/python3.9/dist-packages (from music21) (1.22.4)\n",
            "Requirement already satisfied: requests in /usr/local/lib/python3.9/dist-packages (from music21) (2.27.1)\n",
            "Requirement already satisfied: cycler>=0.10 in /usr/local/lib/python3.9/dist-packages (from matplotlib->music21) (0.11.0)\n",
            "Requirement already satisfied: pyparsing>=2.3.1 in /usr/local/lib/python3.9/dist-packages (from matplotlib->music21) (3.0.9)\n",
            "Requirement already satisfied: packaging>=20.0 in /usr/local/lib/python3.9/dist-packages (from matplotlib->music21) (23.1)\n",
            "Requirement already satisfied: python-dateutil>=2.7 in /usr/local/lib/python3.9/dist-packages (from matplotlib->music21) (2.8.2)\n",
            "Requirement already satisfied: importlib-resources>=3.2.0 in /usr/local/lib/python3.9/dist-packages (from matplotlib->music21) (5.12.0)\n",
            "Requirement already satisfied: fonttools>=4.22.0 in /usr/local/lib/python3.9/dist-packages (from matplotlib->music21) (4.39.3)\n",
            "Requirement already satisfied: pillow>=6.2.0 in /usr/local/lib/python3.9/dist-packages (from matplotlib->music21) (8.4.0)\n",
            "Requirement already satisfied: kiwisolver>=1.0.1 in /usr/local/lib/python3.9/dist-packages (from matplotlib->music21) (1.4.4)\n",
            "Requirement already satisfied: contourpy>=1.0.1 in /usr/local/lib/python3.9/dist-packages (from matplotlib->music21) (1.0.7)\n",
            "Requirement already satisfied: urllib3<1.27,>=1.21.1 in /usr/local/lib/python3.9/dist-packages (from requests->music21) (1.26.15)\n",
            "Requirement already satisfied: certifi>=2017.4.17 in /usr/local/lib/python3.9/dist-packages (from requests->music21) (2022.12.7)\n",
            "Requirement already satisfied: charset-normalizer~=2.0.0 in /usr/local/lib/python3.9/dist-packages (from requests->music21) (2.0.12)\n",
            "Requirement already satisfied: idna<4,>=2.5 in /usr/local/lib/python3.9/dist-packages (from requests->music21) (3.4)\n",
            "Requirement already satisfied: zipp>=3.1.0 in /usr/local/lib/python3.9/dist-packages (from importlib-resources>=3.2.0->matplotlib->music21) (3.15.0)\n",
            "Requirement already satisfied: six>=1.5 in /usr/local/lib/python3.9/dist-packages (from python-dateutil>=2.7->matplotlib->music21) (1.16.0)\n"
          ]
        }
      ],
      "source": [
        "!pip install --upgrade music21"
      ]
    },
    {
      "cell_type": "code",
      "execution_count": 8,
      "metadata": {
        "colab": {
          "base_uri": "https://localhost:8080/"
        },
        "id": "8r3K2_Tu7NUo",
        "outputId": "72c306ef-75cd-4519-8e6c-8fa39331c068"
      },
      "outputs": [
        {
          "output_type": "stream",
          "name": "stdout",
          "text": [
            "\r0% [Working]\r            \rHit:1 https://cloud.r-project.org/bin/linux/ubuntu focal-cran40/ InRelease\n",
            "\r0% [Connecting to archive.ubuntu.com (91.189.91.38)] [Connecting to security.ub\r                                                                               \rHit:2 https://developer.download.nvidia.com/compute/cuda/repos/ubuntu2004/x86_64  InRelease\n",
            "\r0% [Waiting for headers] [Connecting to security.ubuntu.com (185.125.190.39)] [\r                                                                               \rHit:3 http://archive.ubuntu.com/ubuntu focal InRelease\n",
            "Get:4 http://archive.ubuntu.com/ubuntu focal-updates InRelease [114 kB]\n",
            "Get:5 http://security.ubuntu.com/ubuntu focal-security InRelease [114 kB]\n",
            "Get:6 http://ppa.launchpad.net/c2d4u.team/c2d4u4.0+/ubuntu focal InRelease [18.1 kB]\n",
            "Get:7 http://archive.ubuntu.com/ubuntu focal-backports InRelease [108 kB]\n",
            "Hit:8 http://ppa.launchpad.net/cran/libgit2/ubuntu focal InRelease\n",
            "Hit:9 http://ppa.launchpad.net/deadsnakes/ppa/ubuntu focal InRelease\n",
            "Hit:10 http://ppa.launchpad.net/graphics-drivers/ppa/ubuntu focal InRelease\n",
            "Hit:11 http://ppa.launchpad.net/mscore-ubuntu/mscore-stable/ubuntu focal InRelease\n",
            "Hit:12 http://ppa.launchpad.net/ubuntugis/ppa/ubuntu focal InRelease\n",
            "Get:13 http://ppa.launchpad.net/c2d4u.team/c2d4u4.0+/ubuntu focal/main Sources [2,519 kB]\n",
            "Get:14 http://ppa.launchpad.net/c2d4u.team/c2d4u4.0+/ubuntu focal/main amd64 Packages [1,191 kB]\n",
            "Fetched 4,065 kB in 5s (869 kB/s)\n",
            "Reading package lists... Done\n",
            "Hit:1 https://cloud.r-project.org/bin/linux/ubuntu focal-cran40/ InRelease\n",
            "Hit:2 https://developer.download.nvidia.com/compute/cuda/repos/ubuntu2004/x86_64  InRelease\n",
            "Hit:3 http://archive.ubuntu.com/ubuntu focal InRelease\n",
            "Get:4 http://security.ubuntu.com/ubuntu focal-security InRelease [114 kB]\n",
            "Hit:5 http://archive.ubuntu.com/ubuntu focal-updates InRelease\n",
            "Get:6 http://archive.ubuntu.com/ubuntu focal-backports InRelease [108 kB]\n",
            "Hit:7 http://ppa.launchpad.net/c2d4u.team/c2d4u4.0+/ubuntu focal InRelease\n",
            "Hit:8 http://ppa.launchpad.net/cran/libgit2/ubuntu focal InRelease\n",
            "Hit:9 http://ppa.launchpad.net/deadsnakes/ppa/ubuntu focal InRelease\n",
            "Hit:10 http://ppa.launchpad.net/graphics-drivers/ppa/ubuntu focal InRelease\n",
            "Hit:11 http://ppa.launchpad.net/mscore-ubuntu/mscore-stable/ubuntu focal InRelease\n",
            "Hit:12 http://ppa.launchpad.net/ubuntugis/ppa/ubuntu focal InRelease\n",
            "Fetched 222 kB in 2s (123 kB/s)\n",
            "Reading package lists... Done\n",
            "Reading package lists... Done\n",
            "Building dependency tree       \n",
            "Reading state information... Done\n",
            "musescore is already the newest version (2.3.2+dfsg4-15~ppa2004+1).\n",
            "0 upgraded, 0 newly installed, 0 to remove and 26 not upgraded.\n"
          ]
        }
      ],
      "source": [
        "!add-apt-repository ppa:mscore-ubuntu/mscore-stable -y\n",
        "!apt-get update\n",
        "!apt-get install musescore"
      ]
    },
    {
      "cell_type": "code",
      "execution_count": 9,
      "metadata": {
        "colab": {
          "base_uri": "https://localhost:8080/"
        },
        "id": "Yxxz3oEIVkeI",
        "outputId": "47a251b4-47ae-4946-b940-40335eda4adb"
      },
      "outputs": [
        {
          "output_type": "stream",
          "name": "stdout",
          "text": [
            "Reading package lists... Done\n",
            "Building dependency tree       \n",
            "Reading state information... Done\n",
            "xvfb is already the newest version (2:1.20.13-1ubuntu1~20.04.8).\n",
            "0 upgraded, 0 newly installed, 0 to remove and 26 not upgraded.\n"
          ]
        }
      ],
      "source": [
        "!apt-get install xvfb"
      ]
    },
    {
      "cell_type": "code",
      "execution_count": 10,
      "metadata": {
        "id": "CP91XD_o8nr4"
      },
      "outputs": [],
      "source": [
        "from music21 import *\n",
        "us = environment.UserSettings()\n",
        "us['musescoreDirectPNGPath'] = '/usr/bin/mscore'\n",
        "us['directoryScratch'] = '/tmp'\n",
        "\n",
        "# music21 is Open Source under the BSD License\n",
        "# Copyright (c) 2006-22 Michael Scott Asato Cuthbert and cuthbertLab\n",
        "# Support music21 by citing it in your research or produts:\n",
        "#\n",
        "#     Cuthbert, Michael Scott.  \n",
        "#     _music21: a Toolkit for Computer-Aided Music Research_\n",
        "#     https://web.mit.edu/music21\n",
        "#     2006-22"
      ]
    },
    {
      "cell_type": "markdown",
      "source": [
        "## Setup z3"
      ],
      "metadata": {
        "id": "3vZ5OpcEfsS1"
      }
    },
    {
      "cell_type": "code",
      "source": [
        "!pip install --upgrade z3-solver"
      ],
      "metadata": {
        "colab": {
          "base_uri": "https://localhost:8080/"
        },
        "id": "fN2DZaFLfr1F",
        "outputId": "14248630-d394-4c8b-8ff5-b0b8173d6d74"
      },
      "execution_count": 11,
      "outputs": [
        {
          "output_type": "stream",
          "name": "stdout",
          "text": [
            "Looking in indexes: https://pypi.org/simple, https://us-python.pkg.dev/colab-wheels/public/simple/\n",
            "Collecting z3-solver\n",
            "  Downloading z3_solver-4.12.1.0-py2.py3-none-manylinux1_x86_64.whl (56.0 MB)\n",
            "\u001b[2K     \u001b[90m━━━━━━━━━━━━━━━━━━━━━━━━━━━━━━━━━━━━━━━━\u001b[0m \u001b[32m56.0/56.0 MB\u001b[0m \u001b[31m6.3 MB/s\u001b[0m eta \u001b[36m0:00:00\u001b[0m\n",
            "\u001b[?25hInstalling collected packages: z3-solver\n",
            "Successfully installed z3-solver-4.12.1.0\n"
          ]
        }
      ]
    },
    {
      "cell_type": "markdown",
      "metadata": {
        "id": "6C3G6bMAYQSz"
      },
      "source": [
        "## Harmony Solving"
      ]
    },
    {
      "cell_type": "markdown",
      "source": [
        "### Library"
      ],
      "metadata": {
        "id": "teIJJ7XmwOEu"
      }
    },
    {
      "cell_type": "code",
      "execution_count": 12,
      "metadata": {
        "id": "RtkrxnZAYVg7"
      },
      "outputs": [],
      "source": [
        "from dataclasses import dataclass\n",
        "\n",
        "import z3\n",
        "\n",
        "# Use midi value to represent\n",
        "PitchMidiVarRef = z3.ArithRef\n",
        "PitchMidiValue = int\n",
        "# 0-11?\n",
        "PitchClassVarRef = z3.ArithRef\n",
        "PitchClassValue = int\n",
        "\n",
        "\n",
        "@dataclass\n",
        "class PitchVarRef:\n",
        "    midi: PitchMidiVarRef\n",
        "    pitchClass: PitchClassVarRef\n",
        "\n",
        "\n",
        "@dataclass\n",
        "class ChordVarRef:\n",
        "    pitches: list[PitchVarRef]\n",
        "\n",
        "    def soprano(self):\n",
        "        return self.pitches[0]\n",
        "\n",
        "    def alto(self):\n",
        "        return self.pitches[1]\n",
        "\n",
        "    def tenor(self):\n",
        "        return self.pitches[2]\n",
        "\n",
        "    def bass(self):\n",
        "        return self.pitches[3]\n",
        "\n",
        "\n",
        "\n",
        "@dataclass\n",
        "class StreamVarRef:\n",
        "    pitches: list[PitchVarRef]\n",
        "\n",
        "\n",
        "def PitchVar(name: str) -> PitchVarRef:\n",
        "    return PitchVarRef(z3.Int(f\"{name}.pitchMidi\"), z3.Int(f\"{name}.pitchClass\"))\n",
        "\n",
        "\n",
        "def PitchMidiVar(name: str) -> PitchMidiVarRef:\n",
        "    return z3.Int(f\"{name}.pitchMidi\")\n",
        "\n",
        "\n",
        "def PitchClassVar(name: str) -> PitchClassVarRef:\n",
        "    return z3.Int(f\"{name}.pitchClass\")\n",
        "\n",
        "\n",
        "def StreamVar(var_names: list[str]) -> StreamVarRef:\n",
        "    return StreamVarRef([PitchVar(name) for name in var_names])\n",
        "\n",
        "\n",
        "def ChordVar(var_names: list[str]) -> ChordVarRef:\n",
        "    return ChordVarRef([PitchVar(name) for name in var_names])"
      ]
    },
    {
      "cell_type": "code",
      "source": [
        "from music21.pitch import Pitch\n",
        "\n",
        "# Constraints\n",
        "def PitchMidiEq(pitch_var: PitchVarRef, name: str):\n",
        "    return pitch_var.midi == Pitch(name).midi\n",
        "\n",
        "def PitchClassEq(pitch_var: PitchVarRef, pitch: Pitch):\n",
        "    return pitch_var.pitchClass == pitch.pitchClass\n",
        "\n",
        "def PitchRange(pitch_var: PitchVarRef, low, high, soft=False):\n",
        "    # TODO(yuchen): Add option for soft check (M2 off)\n",
        "    return z3.And(Pitch(low).midi <= pitch_var.midi, pitch_var.midi <= Pitch(high).midi)\n",
        "\n",
        "\n",
        "def SopranoRange(pitch_var: PitchVarRef):\n",
        "    return PitchRange(pitch_var, \"C4\", \"G5\")\n",
        "\n",
        "\n",
        "def AltoRange(pitch_var: PitchVarRef):\n",
        "    return PitchRange(pitch_var, \"G3\", \"D5\")\n",
        "\n",
        "\n",
        "def TenorRange(pitch_var: PitchVarRef):\n",
        "    return PitchRange(pitch_var, \"C3\", \"G4\")\n",
        "\n",
        "\n",
        "def BassRange(pitch_var: PitchVarRef):\n",
        "    return PitchRange(pitch_var, \"E2\", \"D4\")"
      ],
      "metadata": {
        "id": "aniK8Rr9sefv"
      },
      "execution_count": null,
      "outputs": []
    },
    {
      "cell_type": "code",
      "source": [
        "from music21.key import Key\n",
        "from music21.roman import RomanNumeral\n",
        "import music21.roman\n",
        "from music21.chord import Chord\n",
        "import music21.chord\n",
        "import music21.interval\n",
        "import itertools as it\n",
        "\n",
        "PITCH_CLASSES_COUNT = 12\n",
        "\n",
        "def PitchClassMidiRelation(pitch_var: PitchVarRef):\n",
        "    return pitch_var.midi % PITCH_CLASSES_COUNT == pitch_var.pitchClass\n",
        "\n",
        "def ChordEqRoman(chord_var: ChordVarRef, key: str, roman: str):\n",
        "    chord = RomanNumeral(roman, key)\n",
        "    bass = PitchClassEq(chord_var.bass(), chord.bass())\n",
        "    all_chord_tones = z3.And([z3.Or([pitch_var.pitchClass == pitchClass for pitchClass in chord.pitchClasses]) for pitch_var in chord_var.pitches])\n",
        "    complete_chord = z3.And([z3.Or([pitch_var.pitchClass == pitchClass for pitch_var in chord_var.pitches]) for pitchClass in chord.pitchClasses])\n",
        "    return z3.And(bass, all_chord_tones, complete_chord)\n",
        "\n",
        "def NoVoiceOverlap(chord_var: ChordVarRef):\n",
        "    s, a, t, b = chord_var.pitches\n",
        "    return z3.And([b.midi <= t.midi, t.midi <= a.midi, a.midi <= s.midi])\n",
        "\n",
        "def NoVoiceCrossing(first: ChordVarRef, second: ChordVarRef):\n",
        "    s0, a0, t0, b0 = first.pitches\n",
        "    s1, a1, t1, b1 = second.pitches\n",
        "    return z3.And(b1.midi <= t0.midi, \n",
        "                  b0.midi <= t1.midi, t1.midi <= a0.midi,\n",
        "                  t0.midi <= a1.midi, a1.midi <= s0.midi,\n",
        "                  a0.midi <= s1.midi\n",
        "                  )\n",
        "\n",
        "def VoicesWithinInterval(upper: StreamVarRef, lower: StreamVarRef, interv: str):\n",
        "    interv = interval.Interval(interv)\n",
        "    return z3.And([ u.midi - l.midi <= interv.semitones for u, l in zip(upper.pitches, lower.pitches)])\n",
        "\n",
        "\n",
        "def Abs(var):\n",
        "    return z3.If(var >= 0, var, -var)\n",
        "\n",
        "def NoParallelFifth(first: ChordVarRef, second: ChordVarRef):\n",
        "    first_diffs = [Abs(a.midi - b.midi) % PITCH_CLASSES_COUNT for a, b in it.combinations(first.pitches, 2)]\n",
        "    second_diffs = [Abs(a.midi - b.midi) for a, b in it.combinations(second.pitches, 2)]\n",
        "    P5 = interval.Interval('P5')\n",
        "    d5 = interval.Interval('d5')\n",
        "    # TODO: bass ^2 to ^3 d5 -> P5 OK\n",
        "    return z3.And([\n",
        "        z3.Not(z3.And(\n",
        "            z3.Or(f == d5.semitones, f == P5.semitones), \n",
        "            s == P5.semitones)) \n",
        "        for f, s in zip(first_diffs, second_diffs)])\n",
        "\n",
        "\n",
        "def NoParallelOctave(first: ChordVarRef, second: ChordVarRef):\n",
        "    first_diffs = [Abs(a.midi - b.midi) for a, b in it.combinations(first.pitches, 2)]\n",
        "    second_diffs = [Abs(a.midi - b.midi) for a, b in it.combinations(second.pitches, 2)]\n",
        "    P8 = interval.Interval('P8')\n",
        "    return z3.And([\n",
        "        z3.Not(z3.And(\n",
        "            f == P8.semitones, \n",
        "            s == P8.semitones)) \n",
        "        for f, s in zip(first_diffs, second_diffs)])\n",
        "\n",
        "def DoubleRoot(chord_var: ChordVarRef, key: str, roman: str):\n",
        "    chord = RomanNumeral(roman, key)\n",
        "    root = chord.root()\n",
        "    use_root_conditions = [z3.If(PitchClassEq(pitch_var, root), 1, 0) for pitch_var in chord_var.pitches]\n",
        "    return sum(use_root_conditions) == 2\n",
        "\n",
        "def DoubleBass(chord_var: ChordVarRef, key: str, roman: str):\n",
        "    chord = RomanNumeral(roman, key)\n",
        "    bass = chord.bass()\n",
        "    use_bass_conditions = [z3.If(PitchClassEq(pitch_var, bass), 1, 0) for pitch_var in chord_var.pitches]\n",
        "    return sum(use_bass_conditions) == 2\n",
        "\n",
        "def DoubleThird(chord_var: ChordVarRef, key: str, roman: str):\n",
        "    chord = RomanNumeral(roman, key)\n",
        "    third = chord.third\n",
        "    use_third_conditions = [z3.If(PitchClassEq(pitch_var, third), 1, 0) for pitch_var in chord_var.pitches]\n",
        "    return sum(use_third_conditions) == 2\n",
        "\n",
        "def SmoothVoice(stream_var: StreamVarRef, interv: str):\n",
        "    interv = interval.Interval(interv)\n",
        "    return z3.And([Abs(a.midi-b.midi) <= interv.semitones for a, b in zip(stream_var.pitches, stream_var.pitches[1:])])\n",
        "\n",
        "def FourPartRange(part_streams):\n",
        "    s, a, t, b = part_streams\n",
        "    return z3.And(\n",
        "        z3.And([SopranoRange(p) for p in s.pitches]), \n",
        "        z3.And([AltoRange(p) for p in a.pitches]),\n",
        "        z3.And([TenorRange(p) for p in t.pitches]),\n",
        "        z3.And([BassRange(p) for p in b.pitches]),\n",
        ")\n"
      ],
      "metadata": {
        "id": "ghml75Tpbvzs"
      },
      "execution_count": null,
      "outputs": []
    },
    {
      "cell_type": "markdown",
      "source": [
        "### Demo"
      ],
      "metadata": {
        "id": "CMwrc_ZDwKCY"
      }
    },
    {
      "cell_type": "code",
      "source": [
        "\n",
        "from pprint import pprint\n",
        "from music21 import *\n",
        "\n",
        "key = 'A'\n",
        "romans = 'I I6 V6/5 I IV6 ii6 V7 I'\n",
        "num_chord = len(romans.split(' '))\n",
        "chords = [ChordVar([f's{i}', f'a{i}', f't{i}', f'b{i}']) for i in range(num_chord)]\n",
        "s, a, t, b = stream_vars = [StreamVar([f'{part}{i}' for i in range(num_chord)]) for part in ['s', 'a', 't', 'b']]\n",
        "\n",
        "\n",
        "\n",
        "\n",
        "pitch_class_midi_rel = z3.And([PitchClassMidiRelation(pitch_var) for chord in chords for pitch_var in chord.pitches])\n",
        "four_part_range = FourPartRange((s, a, t, b))\n",
        "no_overlaps = z3.And([NoVoiceOverlap(chord_var) for chord_var in chords])\n",
        "chord_eqs = z3.And([ChordEqRoman(chord_var, key, roman) for chord_var, roman in zip(chords, romans.split(' '))])\n",
        "\n",
        "\n",
        "# More constraints\n",
        "chord_specific = z3.And([DoubleRoot(chords[-1], key, 'I')])\n",
        "\n",
        "no_crossing = z3.And([NoVoiceCrossing(a, b) for a, b in zip(chords, chords[1:])])\n",
        "no_parallel_5th = z3.And([NoParallelFifth(a, b) for a, b in zip(chords, chords[1:])])\n",
        "no_parallel_8ve = z3.And([NoParallelOctave(a, b) for a, b in zip(chords, chords[1:])])\n",
        "smooth_voices = z3.And(SmoothVoice(s, 'M3'), SmoothVoice(a, 'P5'), SmoothVoice(t, 'P5'), SmoothVoice(b, 'P5'))\n",
        "at_most_8ve_apart = z3.And([VoicesWithinInterval(upper, lower, 'P8') for upper, lower in zip(stream_vars[:-1], stream_vars[1:-1])])\n",
        "\n",
        "solver = z3.Solver()\n",
        "solver.add(pitch_class_midi_rel, four_part_range, no_overlaps, no_crossing, chord_eqs)\n",
        "solver.add(chord_specific)\n",
        "solver.add(no_parallel_5th)\n",
        "solver.add(no_parallel_8ve)\n",
        "solver.add(smooth_voices)\n",
        "solver.add(PitchClassEq(chords[-1].soprano(), pitch.Pitch('A')))\n",
        "# solver.add(PitchClassEq(chords[-2].soprano(), pitch.Pitch('G#')))\n",
        "solver.add(at_most_8ve_apart)\n",
        "solver.check()\n",
        "model = solver.model()\n",
        "\n",
        "\n",
        "\n",
        "\n",
        "import music21.chord as cord\n",
        "import music21.note\n",
        "import music21.stream\n",
        "import music21.clef\n",
        "\n",
        "\n",
        "\n",
        "def display_results(model):\n",
        "    s_val, a_val, t_val, b_val = stream_vals = [stream.Voice() for _ in range(4)]\n",
        "\n",
        "    key_sig = music21.key.KeySignature(Key(key).sharps)\n",
        "    for stream_val, stream_var in zip(stream_vals, stream_vars):\n",
        "        stream_val.keySignature = key_sig \n",
        "        for pitch_var in stream_var.pitches:\n",
        "            n = note.Note(model[pitch_var.midi].as_long())\n",
        "            stream_val.append(n)\n",
        "\n",
        "\n",
        "    \n",
        "    treble_part = stream.PartStaff([s_val, a_val])\n",
        "    treble_part.clef = clef.TrebleClef()\n",
        "    treble_part.keySignature = key_sig\n",
        "    bass_part = stream.PartStaff([t_val, b_val])\n",
        "    bass_part.clef = clef.BassClef()\n",
        "    bass_part.keySignature = key_sig\n",
        "\n",
        "\n",
        "\n",
        "    score = stream.Score([treble_part, bass_part])\n",
        "    score.keySignature = key_sig\n",
        "    score.show()\n",
        "    score.show('midi')\n",
        "\n",
        "\n",
        "print('====== Model ======')\n",
        "# pprint(model)\n",
        "print('\\n====== Demo ======\\n')\n",
        "display_results(model)\n"
      ],
      "metadata": {
        "colab": {
          "base_uri": "https://localhost:8080/",
          "height": 334
        },
        "id": "FQhTIQ8ZwtiX",
        "outputId": "d6f8ae58-a149-4e1b-864d-6f94e1cff816"
      },
      "execution_count": null,
      "outputs": [
        {
          "output_type": "stream",
          "name": "stdout",
          "text": [
            "====== Model ======\n",
            "\n",
            "====== Demo ======\n",
            "\n"
          ]
        },
        {
          "output_type": "display_data",
          "data": {
            "image/png": "[encoded data removed]",
            "text/plain": [
              "<IPython.core.display.Image object>"
            ]
          },
          "metadata": {
            "image/png": {
              "width": 748,
              "height": 129
            }
          }
        },
        {
          "output_type": "display_data",
          "data": {
            "text/plain": [
              "<IPython.core.display.HTML object>"
            ],
            "text/html": [
              "\n",
              "                <div id=\"midiPlayerDiv10802\"></div>\n",
              "                <link rel=\"stylesheet\" href=\"//cuthbertLab.github.io/music21j/css/m21.css\"\n",
              "                    type=\"text/css\" />\n",
              "                \n",
              "                    <script src=\"//cuthbertLab.github.io/music21j/ext/require/require.js\"\n",
              "                    ></script>\n",
              "                \n",
              "                <script>\n",
              "                require.config({\n",
              "                    paths: {'music21': '//cuthbertLab.github.io/music21j/src/music21'}\n",
              "                });\n",
              "                require(['music21'], function() {\n",
              "                               mp = new music21.miditools.MidiPlayer();\n",
              "                               mp.addPlayer(\"#midiPlayerDiv10802\");\n",
              "                               mp.base64Load(\"data:audio/midi;base64,TVRoZAAAAAYAAQADBABNVHJrAAAAGgD/UQMHoSAA/1kCAwAA/1gEBAIYCIgA/y8ATVRyawAAAJYA/wMAAOAAQIgAkEVaAJBAWogAgEUAAIBAAACQRVoAkEBaiACARQAAgEAAAJBHWgCQQFqIAIBHAACAQAAAkElaAJBAWogAgEkAAIBAAACQSloAkD5aiACASgAAgD4AAJBHWgCQPlqIAIBHAACAPgAAkEdaAJA+WogAgEcAAIA+AACQRVoAkD1aiACARQAAgD0AiAD/LwBNVHJrAAAAlgD/AwAA4ABAiACQPVoAkC1aiACAPQAAgC0AAJA9WgCQMVqIAIA9AACAMQAAkD5aAJA4WogAgD4AAIA4AACQOVoAkDlaiACAOQAAgDkAAJA5WgCQNlqIAIA5AACANgAAkDZaAJAyWogAgDYAAIAyAACQOFoAkDRaiACAOAAAgDQAAJA0WgCQLVqIAIA0AACALQCIAP8vAA==\");\n",
              "                        });\n",
              "                </script>"
            ]
          },
          "metadata": {}
        }
      ]
    }
  ],
  "metadata": {
    "colab": {
      "collapsed_sections": [
        "7ayYu78SYWs7",
        "3vZ5OpcEfsS1"
      ],
      "provenance": [],
      "toc_visible": true,
      "include_colab_link": true
    },
    "kernelspec": {
      "display_name": "Python 3",
      "name": "python3"
    }
  },
  "nbformat": 4,
  "nbformat_minor": 0
}